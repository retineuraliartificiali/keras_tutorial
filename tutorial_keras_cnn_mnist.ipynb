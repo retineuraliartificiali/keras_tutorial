{
  "nbformat": 4,
  "nbformat_minor": 0,
  "metadata": {
    "colab": {
      "name": "tutorial_keras_cnn_mnist.ipynb",
      "version": "0.3.2",
      "provenance": [],
      "collapsed_sections": [],
      "include_colab_link": true
    },
    "kernelspec": {
      "name": "python3",
      "display_name": "Python 3"
    },
    "accelerator": "GPU"
  },
  "cells": [
    {
      "cell_type": "markdown",
      "metadata": {
        "id": "view-in-github",
        "colab_type": "text"
      },
      "source": [
        "<a href=\"https://colab.research.google.com/github/retineuraliartificiali/keras_tutorial/blob/master/tutorial_keras_cnn_mnist.ipynb\" target=\"_parent\"><img src=\"https://colab.research.google.com/assets/colab-badge.svg\" alt=\"Open In Colab\"/></a>"
      ]
    },
    {
      "metadata": {
        "id": "TfyIl0BEkD6O",
        "colab_type": "code",
        "colab": {}
      },
      "cell_type": "code",
      "source": [
        "from keras.datasets import mnist\n",
        "import matplotlib.pyplot as plt\n",
        "from keras.utils import to_categorical\n",
        "from keras.models import Sequential\n",
        "from keras.layers import Dense, Conv2D, Flatten,GaussianNoise,AveragePooling2D\n",
        "\n",
        "\n",
        "tot_train_examples = 60000\n",
        "tot_test_examples = 10000\n",
        "width=28\n",
        "height=28\n",
        "channels = 1\n",
        "f_size1 = 128\n",
        "f_size2= 64\n",
        "\n"
      ],
      "execution_count": 0,
      "outputs": []
    },
    {
      "metadata": {
        "id": "uiitxjBQkqmp",
        "colab_type": "code",
        "outputId": "b7e2a8c8-7319-41ef-ad89-436e81f97b59",
        "colab": {
          "base_uri": "https://localhost:8080/",
          "height": 364
        }
      },
      "cell_type": "code",
      "source": [
        "#scarica i dati e crea il dataset di train e di test\n",
        "(Xtrain, ytrain), (Xtest, ytest) = mnist.load_data()\n",
        "plt.imshow(Xtrain[0])\n",
        "print(Xtrain[0].shape)"
      ],
      "execution_count": 0,
      "outputs": [
        {
          "output_type": "stream",
          "text": [
            "(28, 28)\n"
          ],
          "name": "stdout"
        },
        {
          "output_type": "display_data",
          "data": {
            "image/png": "[encoded data removed]",
            "text/plain": [
              "<Figure size 576x396 with 1 Axes>"
            ]
          },
          "metadata": {
            "tags": []
          }
        }
      ]
    },
    {
      "metadata": {
        "id": "hpVWr3KxkrnU",
        "colab_type": "code",
        "outputId": "702c7de6-3566-4048-c31b-f33a3e0ce743",
        "colab": {
          "base_uri": "https://localhost:8080/",
          "height": 34
        }
      },
      "cell_type": "code",
      "source": [
        "Xtrain_reshaped = Xtrain.reshape(tot_train_examples,width,height,channels)\n",
        "Xtest_reshaped = Xtest.reshape(tot_test_examples,width,height,channels)\n",
        "\n",
        "print(\"Nuova shape \",Xtrain_reshaped[0].shape)"
      ],
      "execution_count": 0,
      "outputs": [
        {
          "output_type": "stream",
          "text": [
            "Nuova shape  (28, 28, 1)\n"
          ],
          "name": "stdout"
        }
      ]
    },
    {
      "metadata": {
        "id": "30ddNhcikswa",
        "colab_type": "code",
        "outputId": "a534b36c-e47e-4223-cbcc-cda19e7de2d6",
        "colab": {
          "base_uri": "https://localhost:8080/",
          "height": 34
        }
      },
      "cell_type": "code",
      "source": [
        "y_train_cat = to_categorical(ytrain)\n",
        "y_test_cat = to_categorical(ytest)\n",
        "print(y_train_cat[0])"
      ],
      "execution_count": 0,
      "outputs": [
        {
          "output_type": "stream",
          "text": [
            "[0. 0. 0. 0. 0. 1. 0. 0. 0. 0.]\n"
          ],
          "name": "stdout"
        }
      ]
    },
    {
      "metadata": {
        "id": "L5UbQ0i4lVXy",
        "colab_type": "code",
        "outputId": "13452d32-2840-41ed-a64a-2b59af6543b3",
        "colab": {
          "base_uri": "https://localhost:8080/",
          "height": 710
        }
      },
      "cell_type": "code",
      "source": [
        "noise = 0.00008\n",
        "#creazione della sequenza keras per il modello Convolutional Neural Network\n",
        "model = Sequential()\n",
        "\n",
        "#add model layers\n",
        "\n",
        "model.add(Conv2D(f_size1, kernel_size=3, activation='relu', input_shape=(width,height,channels)))\n",
        "model.add(GaussianNoise(noise))\n",
        "model.add(Conv2D(f_size2, kernel_size=3, activation='relu'))\n",
        "model.add(GaussianNoise(noise))\n",
        "model.add(AveragePooling2D(pool_size=(2, 2), strides=None, padding='valid', data_format=None) )\n",
        "model.add(Flatten())\n",
        "model.add(Dense(10, activation='softmax'))\n",
        "\n",
        "#compile model using accuracy to measure model performance\n",
        "model.compile(optimizer='adam', loss='categorical_crossentropy', metrics=['accuracy'])\n",
        "\n",
        "#train the model\n",
        "model.fit(Xtrain_reshaped, y_train_cat, validation_data=(Xtest_reshaped, y_test_cat), epochs=10,batch_size=512)\n",
        "\n",
        "\n",
        "#predict first 4 images in the test set\n",
        "model.predict(X_test_res[:4])\n",
        "\n",
        "\n",
        "#actual results for first 4 images in test set\n",
        "y_test_cat[:4]"
      ],
      "execution_count": 0,
      "outputs": [
        {
          "output_type": "stream",
          "text": [
            "WARNING:tensorflow:From /usr/local/lib/python3.6/dist-packages/tensorflow/python/framework/op_def_library.py:263: colocate_with (from tensorflow.python.framework.ops) is deprecated and will be removed in a future version.\n",
            "Instructions for updating:\n",
            "Colocations handled automatically by placer.\n",
            "WARNING:tensorflow:From /usr/local/lib/python3.6/dist-packages/tensorflow/python/ops/math_ops.py:3066: to_int32 (from tensorflow.python.ops.math_ops) is deprecated and will be removed in a future version.\n",
            "Instructions for updating:\n",
            "Use tf.cast instead.\n",
            "Train on 60000 samples, validate on 10000 samples\n",
            "Epoch 1/10\n",
            "60000/60000 [==============================] - 19s 320us/step - loss: 1.5396 - acc: 0.8476 - val_loss: 0.0699 - val_acc: 0.9774\n",
            "Epoch 2/10\n",
            "60000/60000 [==============================] - 14s 229us/step - loss: 0.0620 - acc: 0.9809 - val_loss: 0.0508 - val_acc: 0.9835\n",
            "Epoch 3/10\n",
            "60000/60000 [==============================] - 14s 230us/step - loss: 0.0425 - acc: 0.9866 - val_loss: 0.0504 - val_acc: 0.9838\n",
            "Epoch 4/10\n",
            "60000/60000 [==============================] - 14s 230us/step - loss: 0.0314 - acc: 0.9900 - val_loss: 0.0439 - val_acc: 0.9871\n",
            "Epoch 5/10\n",
            "60000/60000 [==============================] - 14s 230us/step - loss: 0.0237 - acc: 0.9925 - val_loss: 0.0505 - val_acc: 0.9851\n",
            "Epoch 6/10\n",
            "60000/60000 [==============================] - 14s 230us/step - loss: 0.0180 - acc: 0.9942 - val_loss: 0.0541 - val_acc: 0.9849\n",
            "Epoch 7/10\n",
            "60000/60000 [==============================] - 14s 230us/step - loss: 0.0168 - acc: 0.9942 - val_loss: 0.0663 - val_acc: 0.9828\n",
            "Epoch 8/10\n",
            "60000/60000 [==============================] - 14s 229us/step - loss: 0.0124 - acc: 0.9960 - val_loss: 0.0546 - val_acc: 0.9847\n",
            "Epoch 9/10\n",
            "60000/60000 [==============================] - 14s 229us/step - loss: 0.0103 - acc: 0.9967 - val_loss: 0.0617 - val_acc: 0.9858\n",
            "Epoch 10/10\n",
            "60000/60000 [==============================] - 14s 229us/step - loss: 0.0096 - acc: 0.9968 - val_loss: 0.0676 - val_acc: 0.9857\n"
          ],
          "name": "stdout"
        },
        {
          "output_type": "error",
          "ename": "NameError",
          "evalue": "ignored",
          "traceback": [
            "\u001b[0;31m---------------------------------------------------------------------------\u001b[0m",
            "\u001b[0;31mNameError\u001b[0m                                 Traceback (most recent call last)",
            "\u001b[0;32m<ipython-input-11-e73c4af0a9c7>\u001b[0m in \u001b[0;36m<module>\u001b[0;34m()\u001b[0m\n\u001b[1;32m     21\u001b[0m \u001b[0;34m\u001b[0m\u001b[0m\n\u001b[1;32m     22\u001b[0m \u001b[0;31m#predict first 4 images in the test set\u001b[0m\u001b[0;34m\u001b[0m\u001b[0;34m\u001b[0m\u001b[0;34m\u001b[0m\u001b[0m\n\u001b[0;32m---> 23\u001b[0;31m \u001b[0mmodel\u001b[0m\u001b[0;34m.\u001b[0m\u001b[0mpredict\u001b[0m\u001b[0;34m(\u001b[0m\u001b[0mX_test_res\u001b[0m\u001b[0;34m[\u001b[0m\u001b[0;34m:\u001b[0m\u001b[0;36m4\u001b[0m\u001b[0;34m]\u001b[0m\u001b[0;34m)\u001b[0m\u001b[0;34m\u001b[0m\u001b[0;34m\u001b[0m\u001b[0m\n\u001b[0m\u001b[1;32m     24\u001b[0m \u001b[0;34m\u001b[0m\u001b[0m\n\u001b[1;32m     25\u001b[0m \u001b[0;34m\u001b[0m\u001b[0m\n",
            "\u001b[0;31mNameError\u001b[0m: name 'X_test_res' is not defined"
          ]
        }
      ]
    }
  ]
}